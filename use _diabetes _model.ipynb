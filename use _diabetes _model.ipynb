{
 "cells": [
  {
   "cell_type": "code",
   "execution_count": 17,
   "metadata": {},
   "outputs": [],
   "source": [
    "# import libraries\n",
    "import joblib"
   ]
  },
  {
   "cell_type": "code",
   "execution_count": 18,
   "metadata": {},
   "outputs": [],
   "source": [
    "# load model:\n",
    "filename = \"Diabetes_model.joblib\"\n",
    "model = joblib.load(filename)\n"
   ]
  },
  {
   "cell_type": "code",
   "execution_count": null,
   "metadata": {},
   "outputs": [],
   "source": [
    "# create function \n",
    "\n",
    "def using_model():\n",
    "    requirements=['age','hba1c','chol','bmi']\n",
    "    dict_req={}\n",
    "    predict_arry=[]\n",
    "    for i in requirements :\n",
    "        dict_req[i]=float(input(f\"please enter your {i}\"))\n",
    "        predict_arry.append(dict_req[i])\n",
    "    \n",
    "    result=model.predict([predict_arry])\n",
    "    \n",
    "    answer=str(input(\"  please type \\n 1- yes: to continue and get the result. \\n 2- try: to try  correct your information again. \\n 3- exit : to close the programe.  \\n or enter the number of choices 1 or 2 or 3\" ))\n",
    "    print(\"*******************************************\")\n",
    "    if answer== \"yes\"or \"Yes\"or'1':\n",
    "        if result==0:\n",
    "            print(\"  it is good news for you, you don't have  diabetes  ^_^ \")\n",
    "        elif result==1:\n",
    "            print(\"  it is not good  news ,you  have  prediabetes .  you need to go to the doctor \")\n",
    "        elif result==2:\n",
    "            \n",
    "            print(\" I am sorry for you but  it is bad news for you ,you  have  diabetes ,  you need to go to the doctor fastly  \")\n",
    "\n",
    "    elif answer==\"try\"or \"Try\"or'2':\n",
    "        using_model()\n",
    "     \n",
    "    elif answer==\"exit\"or \"Exit\"or'3':\n",
    "        print(\"Thanks for used my programe ^_^  \")\n",
    "    else :\n",
    "        print(\" you entered  the wrong answer \")\n",
    "        answer=str(input(\"  please type \\n 1- yes: to continue and get the result.   \\n 2- try: to try  correct your information again. \\n 3- exit : to close the programe.  \\n or enter the number of choices 1 or 2 or 3\" ))\n",
    "        print(\"*******************************************\")\n",
    "\n",
    "    return   result \n",
    "\n",
    "using_model()"
   ]
  },
  {
   "cell_type": "code",
   "execution_count": null,
   "metadata": {},
   "outputs": [],
   "source": []
  }
 ],
 "metadata": {
  "kernelspec": {
   "display_name": "Python 3",
   "language": "python",
   "name": "python3"
  },
  "language_info": {
   "codemirror_mode": {
    "name": "ipython",
    "version": 3
   },
   "file_extension": ".py",
   "mimetype": "text/x-python",
   "name": "python",
   "nbconvert_exporter": "python",
   "pygments_lexer": "ipython3",
   "version": "3.8.3"
  }
 },
 "nbformat": 4,
 "nbformat_minor": 4
}
